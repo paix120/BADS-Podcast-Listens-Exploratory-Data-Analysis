{
 "cells": [
  {
   "cell_type": "code",
   "execution_count": 1,
   "metadata": {
    "collapsed": false
   },
   "outputs": [
    {
     "name": "stdout",
     "output_type": "stream",
     "text": [
      "Pandas version: 0.18.0 \n",
      "\n",
      "   rownum  postnum               IP    method   timestamp         day episode\n",
      "0       2      776    216.12.71.225    player  1450081089  2015-12-14   Renee\n",
      "1       3      776    216.12.71.225    player  1450101683  2015-12-14   Renee\n",
      "2       4      776    216.12.71.225  download  1450101715  2015-12-14   Renee\n",
      "3       5      776    216.12.71.225  download  1450101774  2015-12-14   Renee\n",
      "4       6      776     24.240.34.21       NaN  1450121645  2015-12-14   Renee\n",
      "5       7      776  166.137.244.127  download  1450124955  2015-12-14   Renee\n",
      "6       8      776  166.137.244.127  download  1450124956  2015-12-14   Renee\n",
      "7       9      776      73.13.30.65  download  1450124978  2015-12-14   Renee\n",
      "8      10      776    87.165.84.243       NaN  1450128780  2015-12-14   Renee\n",
      "9      11      776    70.199.218.46       NaN  1450128783  2015-12-14   Renee \n",
      "\n",
      "       rownum  postnum               IP method   timestamp         day episode\n",
      "11485   11487      776   69.116.133.198    NaN  1457889150  2016-03-13   Renee\n",
      "11486   11488      871   123.201.180.59    NaN  1457890410  2016-03-13  Shlomo\n",
      "11487   11489      871   123.201.180.59    NaN  1457892441  2016-03-13  Shlomo\n",
      "11488   11490      964  141.219.238.189    NaN  1457892518  2016-03-13    Erin\n",
      "11489   11491      871   123.201.180.59    NaN  1457892728  2016-03-13  Shlomo\n",
      "11490   11492      776   86.129.218.112    NaN  1457894803  2016-03-13   Renee\n",
      "11491   11493      921    90.206.142.66    NaN  1457896368  2016-03-13   Clare\n",
      "11492   11494      964    90.206.142.66    NaN  1457896411  2016-03-13    Erin\n",
      "11493   11495      807     70.194.98.87    NaN  1457896705  2016-03-13    Will\n",
      "11494   11496      807     70.194.98.87    NaN  1457896705  2016-03-13    Will\n"
     ]
    }
   ],
   "source": [
    "import pandas as pd\n",
    "#show pandas version\n",
    "print('Pandas version:',pd.__version__,'\\n')\n",
    "\n",
    "#read in the CSV\n",
    "dfListens = pd.read_csv('20160313_stats.csv')\n",
    "#name the columns\n",
    "dfListens.columns = ['rownum','postnum','IP','method','timestamp']\n",
    "#look at the 1st and last 10 rows\n",
    "\n",
    "#add a column with the date from timestamp\n",
    "dfListens['day'] = pd.to_datetime(dfListens['timestamp'], unit='s').dt.date\n",
    "\n",
    "#replace postnums with episode names\n",
    "eps = {776:'Renee',807:'Will',841:'Safia',871:'Shlomo',896:'Sherman',921:'Clare',964:'Erin'}\n",
    "dfListens['episode'] = dfListens['postnum'].replace(eps)\n",
    "\n",
    "#show data after transform\n",
    "print(dfListens.head(n=10),\"\\n\")\n",
    "print(dfListens.tail(n=10))"
   ]
  },
  {
   "cell_type": "code",
   "execution_count": 2,
   "metadata": {
    "collapsed": false
   },
   "outputs": [
    {
     "name": "stdout",
     "output_type": "stream",
     "text": [
      "                                   IPListensThisDay  CountIPVisit\n",
      "episode day        IP                                            \n",
      "Safia   2016-01-10 172.91.239.120              1236             1\n",
      "Sherman 2016-02-23 188.182.67.194                25             1\n",
      "Will    2016-03-04 199.7.159.53                  23             1\n",
      "Sherman 2016-02-03 108.28.182.162                21             1\n",
      "Will    2016-01-19 159.153.129.39                20             1\n",
      "Safia   2016-01-05 71.3.137.51                   20             1\n",
      "Renee   2015-12-20 163.47.14.103                 19             1\n",
      "        2016-01-19 159.153.129.39                16             1\n",
      "Safia   2016-02-17 24.93.25.167                  15             1\n",
      "Shlomo  2016-02-17 24.93.25.167                  15             1\n",
      "Clare   2016-02-17 24.93.25.167                  15             1\n",
      "Will    2016-01-09 81.166.250.64                 15             1\n",
      "Shlomo  2016-02-21 73.253.101.253                14             1\n",
      "Sherman 2016-02-17 24.93.25.167                  14             1\n",
      "        2016-02-03 151.154.209.7                 14             1\n",
      "Will    2016-03-06 70.192.67.32                  14             1\n",
      "Renee   2016-03-11 67.11.166.107                 14             1\n",
      "        2016-03-08 96.89.18.53                   13             1\n",
      "Will    2015-12-22 67.180.197.70                 13             1\n",
      "Clare   2016-03-09 199.36.12.131                 13             1\n"
     ]
    }
   ],
   "source": [
    "#group by episode, day, and IP. add column that can be used to count each once\n",
    "dfIPDay = dfListens.drop(['rownum','method','postnum'], axis=1)\n",
    "dfIPDay = dfIPDay.groupby(['episode','day','IP']).count()\n",
    "dfIPDay['countIPDay'] = 1\n",
    "#using timestamp column to display count here. rename\n",
    "dfIPDay.columns = ['IPListensThisDay','CountIPVisit']\n",
    "print(dfIPDay.sort_values(by=['IPListensThisDay'], ascending=False).head(n=20))\n",
    "\n",
    "#you can see that one IP hit episode 841 1236 times in one day on 1/10 (bot?)"
   ]
  },
  {
   "cell_type": "code",
   "execution_count": 3,
   "metadata": {
    "collapsed": false
   },
   "outputs": [
    {
     "name": "stdout",
     "output_type": "stream",
     "text": [
      "Listen Counts by Episode:\n",
      "         IPListensThisDay  CountIPVisit\n",
      "episode                                \n",
      "Will                 1710          1035\n",
      "Renee                1704          1006\n",
      "Erin                 1460           901\n",
      "Clare                1345           877\n",
      "Sherman              1434           845\n",
      "Shlomo               1378           838\n",
      "Safia                2464           771\n"
     ]
    }
   ],
   "source": [
    "print('Listen Counts by Episode:')\n",
    "print(dfIPDay.groupby(level=['episode']).sum().sort_values(by=['CountIPVisit'], ascending=False))"
   ]
  },
  {
   "cell_type": "code",
   "execution_count": null,
   "metadata": {
    "collapsed": false
   },
   "outputs": [],
   "source": [
    "#how many people/services have downloaded each ep?\n",
    "#print('IP Counts by Episode:')\n",
    "#print(dfIPDay.groupby(level=['episode','IP']).count().sort_values(by=['listencount'], ascending=False))"
   ]
  },
  {
   "cell_type": "code",
   "execution_count": 13,
   "metadata": {
    "collapsed": false
   },
   "outputs": [
    {
     "name": "stdout",
     "output_type": "stream",
     "text": [
      "Top Episode Days:                     CountIPVisit\n",
      "episode day                     \n",
      "Clare   2016-02-15           230\n",
      "Erin    2016-03-01           206\n",
      "        2016-02-29           205\n",
      "Sherman 2016-02-02           194\n",
      "Shlomo  2016-01-18           108\n",
      "Clare   2016-02-16            78\n",
      "Erin    2016-03-02            75\n",
      "Will    2015-12-21            68\n",
      "Erin    2016-03-03            62\n",
      "Sherman 2016-02-03            60 \n",
      "\n",
      "Max Listens In a Day by Episode (ordered by date):\n",
      "   episode         day  CountIPVisit  DayOfWeek\n",
      "6     Will  2015-12-21            68     Monday\n",
      "3    Safia  2016-01-04            54     Monday\n",
      "5   Shlomo  2016-01-18           108     Monday\n",
      "4  Sherman  2016-02-02           194    Tuesday\n",
      "0    Clare  2016-02-15           230     Monday\n",
      "1     Erin  2016-03-01           206    Tuesday\n",
      "2    Renee  2016-03-09            34  Wednesday\n"
     ]
    }
   ],
   "source": [
    "#get count of IPs accessing episode per day\n",
    "dfEpDay = dfIPDay.reset_index()\n",
    "dfEpDay = dfIPDay.groupby(level=['episode','day']).sum()\n",
    "dfEpDay = dfEpDay.drop(['IPListensThisDay'],axis=1).sort_values(by=['CountIPVisit'], ascending=False)\n",
    "print('Top Episode Days:',dfEpDay.head(n=10),'\\n')\n",
    "\n",
    "#get the highest-count day per episode and display\n",
    "#note: would be \"fairer\" to get 1st 24 hrs per episode since i don't post at same time of day each time\n",
    "dfEpDayMax = pd.DataFrame(dfEpDay.groupby(level=['episode']).nth(0)).reset_index()\n",
    "#add weekday to see if most are Monday/Tuesday when episode published\n",
    "import datetime as pydt\n",
    "dfEpDayMax['DayOfWeek'] = pd.to_datetime(dfEpDayMax['day']).apply(lambda x: pydt.datetime.strftime(x, '%A'))\n",
    "print('Max Listens In a Day by Episode (ordered by date):')\n",
    "print(dfEpDayMax.sort_values(by=['day']))\n",
    "\n"
   ]
  },
  {
   "cell_type": "code",
   "execution_count": null,
   "metadata": {
    "collapsed": false
   },
   "outputs": [],
   "source": [
    "dfEpDay.reset_index(['day','episode']) \n",
    "\n",
    "#next: plot listens by day, series per episode?"
   ]
  },
  {
   "cell_type": "code",
   "execution_count": null,
   "metadata": {
    "collapsed": true
   },
   "outputs": [],
   "source": []
  }
 ],
 "metadata": {
  "kernelspec": {
   "display_name": "Python 3",
   "language": "python",
   "name": "python3"
  },
  "language_info": {
   "codemirror_mode": {
    "name": "ipython",
    "version": 3
   },
   "file_extension": ".py",
   "mimetype": "text/x-python",
   "name": "python",
   "nbconvert_exporter": "python",
   "pygments_lexer": "ipython3",
   "version": "3.5.1"
  }
 },
 "nbformat": 4,
 "nbformat_minor": 0
}
